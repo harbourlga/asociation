{
 "cells": [
  {
   "cell_type": "code",
   "execution_count": 22,
   "metadata": {
    "scrolled": true
   },
   "outputs": [],
   "source": [
    "import sys\n",
    "sys.path.append('H:/git_obj/Asociation analysis/asociation_tools')\n",
    "import fpGrowth"
   ]
  },
  {
   "cell_type": "code",
   "execution_count": 2,
   "metadata": {},
   "outputs": [
    {
     "name": "stdout",
     "output_type": "stream",
     "text": [
      "  pyramid   9\n",
      "   eye   13\n",
      "   phoenix   3\n"
     ]
    }
   ],
   "source": [
    "rootNode = fpGrowth.treeNode('pyramid', 9, None)\n",
    "rootNode.children['eye'] = fpGrowth.treeNode('eye', 13, None)\n",
    "rootNode.children['phoenix'] = fpGrowth.treeNode('phoenix', 3, None)\n",
    "rootNode.disp()"
   ]
  },
  {
   "cell_type": "code",
   "execution_count": 3,
   "metadata": {},
   "outputs": [
    {
     "data": {
      "text/plain": [
       "{'eye': <fpGrowth.treeNode at 0x2a1455dac50>,\n",
       " 'phoenix': <fpGrowth.treeNode at 0x2a1455dac88>}"
      ]
     },
     "execution_count": 3,
     "metadata": {},
     "output_type": "execute_result"
    }
   ],
   "source": [
    "rootNode.children"
   ]
  },
  {
   "cell_type": "code",
   "execution_count": 23,
   "metadata": {},
   "outputs": [
    {
     "name": "stdout",
     "output_type": "stream",
     "text": [
      "是否改变:{'z': [5, <fpGrowth.treeNode object at 0x000001669E2C15F8>], 'r': [3, <fpGrowth.treeNode object at 0x000001669E2C15C0>], 'y': [3, <fpGrowth.treeNode object at 0x000001669E2C1278>], 's': [3, <fpGrowth.treeNode object at 0x000001669E2C1240>], 'x': [4, <fpGrowth.treeNode object at 0x000001669E2C10F0>], 't': [3, <fpGrowth.treeNode object at 0x000001669E2C12E8>]}\t:x\t:<fpGrowth.treeNode object at 0x000001669E2C10F0>\n",
      "是否改变:{'z': [5, <fpGrowth.treeNode object at 0x000001669E2C15F8>], 'r': [3, <fpGrowth.treeNode object at 0x000001669E2C15C0>], 'y': [3, <fpGrowth.treeNode object at 0x000001669E2C1278>], 's': [3, <fpGrowth.treeNode object at 0x000001669E2C1240>], 'x': [4, <fpGrowth.treeNode object at 0x000001669E2C10F0>], 't': [3, <fpGrowth.treeNode object at 0x000001669E2C12E8>]}\t:s\t:<fpGrowth.treeNode object at 0x000001669E2C1240>\n",
      "是否改变:{'z': [5, <fpGrowth.treeNode object at 0x000001669E2C15F8>], 'r': [3, <fpGrowth.treeNode object at 0x000001669E2C15C0>], 'y': [3, <fpGrowth.treeNode object at 0x000001669E2C1278>], 's': [3, <fpGrowth.treeNode object at 0x000001669E2C1240>], 'x': [4, <fpGrowth.treeNode object at 0x000001669E2C10F0>], 't': [3, <fpGrowth.treeNode object at 0x000001669E2C12E8>]}\t:r\t:<fpGrowth.treeNode object at 0x000001669E2C15C0>\n",
      "是否改变:{'z': [5, <fpGrowth.treeNode object at 0x000001669E2C15F8>], 'r': [3, <fpGrowth.treeNode object at 0x000001669E2C15C0>], 'y': [3, <fpGrowth.treeNode object at 0x000001669E2C1278>], 's': [3, <fpGrowth.treeNode object at 0x000001669E2C1240>], 'x': [4, <fpGrowth.treeNode object at 0x000001669E2C10F0>], 't': [3, <fpGrowth.treeNode object at 0x000001669E2C12E8>]}\t:r\t:<fpGrowth.treeNode object at 0x000001669E2C15C0>\n",
      "是否改变:{'z': [5, <fpGrowth.treeNode object at 0x000001669E2C15F8>], 'r': [3, <fpGrowth.treeNode object at 0x000001669E2C15C0>], 'y': [3, <fpGrowth.treeNode object at 0x000001669E2C1278>], 's': [3, <fpGrowth.treeNode object at 0x000001669E2C1240>], 'x': [4, <fpGrowth.treeNode object at 0x000001669E2C10F0>], 't': [3, <fpGrowth.treeNode object at 0x000001669E2C12E8>]}\t:t\t:<fpGrowth.treeNode object at 0x000001669E2C12E8>\n",
      "  Null Set   1\n",
      "   z   5\n",
      "    r   1\n",
      "    x   3\n",
      "     y   3\n",
      "      s   2\n",
      "       t   2\n",
      "      r   1\n",
      "       t   1\n",
      "   x   1\n",
      "    s   1\n",
      "     r   1\n"
     ]
    }
   ],
   "source": [
    "simpDat = fpGrowth.loadSimpDat()\n",
    "initSet = fpGrowth.createInitSet(simpDat)\n",
    "myFPtree, myHeaderTab = fpGrowth.createTree(initSet, 3)\n",
    "myFPtree.disp()"
   ]
  },
  {
   "cell_type": "code",
   "execution_count": 3,
   "metadata": {},
   "outputs": [
    {
     "data": {
      "text/plain": [
       "{frozenset({'h', 'j', 'p', 'r', 'z'}): 1,\n",
       " frozenset({'s', 't', 'u', 'v', 'w', 'x', 'y', 'z'}): 1,\n",
       " frozenset({'z'}): 1,\n",
       " frozenset({'n', 'o', 'r', 's', 'x'}): 1,\n",
       " frozenset({'p', 'q', 'r', 't', 'x', 'y', 'z'}): 1,\n",
       " frozenset({'e', 'm', 'q', 's', 't', 'x', 'y', 'z'}): 1}"
      ]
     },
     "execution_count": 3,
     "metadata": {},
     "output_type": "execute_result"
    }
   ],
   "source": [
    "initSet"
   ]
  },
  {
   "cell_type": "code",
   "execution_count": null,
   "metadata": {},
   "outputs": [],
   "source": [
    "orderedItems:['z', 'r']  treeNode('Null Set', 1, None)  \n",
    "headerTable:{'r': [3, None], 'z': [5, None], 's': [3, None], 'y': [3, None], 'x': [4, None], 't': [3, None]}\n",
    "    \n",
    "{frozenset({'h', 'j', 'p', 'r', 'z'}): 1,\n",
    " frozenset({'s', 't', 'u', 'v', 'w', 'x', 'y', 'z'}): 1,\n",
    " frozenset({'z'}): 1,\n",
    " frozenset({'n', 'o', 'r', 's', 'x'}): 1,\n",
    " frozenset({'p', 'q', 'r', 't', 'x', 'y', 'z'}): 1,\n",
    " frozenset({'e', 'm', 'q', 's', 't', 'x', 'y', 'z'}): 1}"
   ]
  },
  {
   "cell_type": "code",
   "execution_count": 13,
   "metadata": {},
   "outputs": [
    {
     "data": {
      "text/plain": [
       "<fpGrowth.treeNode at 0x23ea57181d0>"
      ]
     },
     "execution_count": 13,
     "metadata": {},
     "output_type": "execute_result"
    }
   ],
   "source": [
    " myHeaderTab['x'][1].nodeLink"
   ]
  },
  {
   "cell_type": "code",
   "execution_count": 10,
   "metadata": {},
   "outputs": [
    {
     "data": {
      "text/plain": [
       "<fpGrowth.treeNode at 0x23ea570ae80>"
      ]
     },
     "execution_count": 10,
     "metadata": {},
     "output_type": "execute_result"
    }
   ],
   "source": [
    "myFPtree"
   ]
  },
  {
   "cell_type": "code",
   "execution_count": 12,
   "metadata": {},
   "outputs": [
    {
     "name": "stdout",
     "output_type": "stream",
     "text": [
      "headerTable:{'j': 1, 'z': 5, 'h': 1, 'p': 2, 'r': 3, 'u': 1, 't': 3, 'y': 3, 'x': 4, 's': 3, 'v': 1, 'w': 1, 'n': 1, 'o': 1, 'q': 2, 'm': 1, 'e': 1}\n",
      "headerTable:{'z': 5, 'p': 2, 'r': 3, 't': 3, 'y': 3, 'x': 4, 's': 3, 'q': 2}\n",
      "freqItemSet = set(headerTable.keys()):{'t', 'z', 'q', 'y', 'x', 'p', 's', 'r'}\n"
     ]
    }
   ],
   "source": [
    "\n",
    "headerTable = {}\n",
    "for trans in initSet:\n",
    "    for item in trans:\n",
    "        headerTable[item] = headerTable.get(item, 0)+ initSet[trans]\n",
    "print('headerTable:{}'.format(headerTable))\n",
    "for key in list(headerTable.keys()):\n",
    "    if headerTable[key] < 2:\n",
    "        del headerTable[key]\n",
    "print('headerTable:{}'.format(headerTable))\n",
    "print('freqItemSet = set(headerTable.keys()):{}'.format(set(headerTable.keys())))"
   ]
  },
  {
   "cell_type": "code",
   "execution_count": 19,
   "metadata": {},
   "outputs": [
    {
     "name": "stdout",
     "output_type": "stream",
     "text": [
      "prefixPath:['t']\tleafNode:<fpGrowth.treeNode object at 0x0000023EA57180B8>\n",
      "prefixPath:['t', 'x']\tleafNode:<fpGrowth.treeNode object at 0x0000023EA570AFD0>\n",
      "prefixPath:['t', 'x', 'z']\tleafNode:<fpGrowth.treeNode object at 0x0000023EA5718048>\n"
     ]
    },
    {
     "data": {
      "text/plain": [
       "{frozenset({'x', 'z'}): 3}"
      ]
     },
     "execution_count": 19,
     "metadata": {},
     "output_type": "execute_result"
    }
   ],
   "source": [
    "fpGrowth.findPrefixPath('t', myHeaderTab['t'][1])"
   ]
  },
  {
   "cell_type": "code",
   "execution_count": 18,
   "metadata": {},
   "outputs": [
    {
     "name": "stdout",
     "output_type": "stream",
     "text": [
      "prefixPath:['r']\tleafNode:<fpGrowth.treeNode object at 0x0000023EA5718080>\n",
      "prefixPath:['r', 'z']\tleafNode:<fpGrowth.treeNode object at 0x0000023EA5718048>\n",
      "prefixPath:['r']\tleafNode:<fpGrowth.treeNode object at 0x0000023EA5718198>\n",
      "prefixPath:['r', 'x']\tleafNode:<fpGrowth.treeNode object at 0x0000023EA57181D0>\n",
      "prefixPath:['r']\tleafNode:<fpGrowth.treeNode object at 0x0000023EA5718240>\n",
      "prefixPath:['r', 'y']\tleafNode:<fpGrowth.treeNode object at 0x0000023EA57180F0>\n",
      "prefixPath:['r', 'y', 't']\tleafNode:<fpGrowth.treeNode object at 0x0000023EA57180B8>\n",
      "prefixPath:['r', 'y', 't', 'x']\tleafNode:<fpGrowth.treeNode object at 0x0000023EA570AFD0>\n",
      "prefixPath:['r', 'y', 't', 'x', 'z']\tleafNode:<fpGrowth.treeNode object at 0x0000023EA5718048>\n",
      "localD:{'z': 2}\n",
      "orderedItems:['z']\t[('z', 2)]\n",
      "localD:{'x': 2}\n",
      "orderedItems:['x']\t[('x', 2)]\n",
      "localD:{'z': 2, 'x': 2}\n",
      "orderedItems:['z', 'x']\t[('z', 2), ('x', 2)]\n",
      "  Null Set   1\n",
      "   z   2\n",
      "    x   1\n",
      "   x   1\n"
     ]
    }
   ],
   "source": [
    "myCondTree, myHead = fpGrowth.createTree(fpGrowth.findPrefixPath('r', myHeaderTab['r'][1]), 2)\n",
    "myCondTree.disp()"
   ]
  },
  {
   "cell_type": "code",
   "execution_count": 2,
   "metadata": {},
   "outputs": [
    {
     "name": "stdout",
     "output_type": "stream",
     "text": [
      "myHeaderTab:{'z': [5, <fpGrowth.treeNode object at 0x000001A934B3A908>], 'r': [3, <fpGrowth.treeNode object at 0x000001A934E5B0F0>], 's': [3, <fpGrowth.treeNode object at 0x000001A934E5B358>], 't': [3, <fpGrowth.treeNode object at 0x000001A934E5B438>], 'y': [3, <fpGrowth.treeNode object at 0x000001A934EBDE48>], 'x': [4, <fpGrowth.treeNode object at 0x000001A934E5B240>]}\n",
      "prefixPath:['r']\tleafNode:<fpGrowth.treeNode object at 0x000001A934E5B0F0>\n",
      "prefixPath:['r', 'z']\tleafNode:<fpGrowth.treeNode object at 0x000001A934B3A908>\n",
      "prefixPath:['r']\tleafNode:<fpGrowth.treeNode object at 0x000001A934ED90B8>\n",
      "prefixPath:['r', 's']\tleafNode:<fpGrowth.treeNode object at 0x000001A934ED9080>\n",
      "prefixPath:['r', 's', 'x']\tleafNode:<fpGrowth.treeNode object at 0x000001A934ED9048>\n",
      "prefixPath:['r']\tleafNode:<fpGrowth.treeNode object at 0x000001A934ED90F0>\n",
      "prefixPath:['r', 'x']\tleafNode:<fpGrowth.treeNode object at 0x000001A934E5B240>\n",
      "prefixPath:['r', 'x', 'z']\tleafNode:<fpGrowth.treeNode object at 0x000001A934B3A908>\n",
      "prefixPath:['s']\tleafNode:<fpGrowth.treeNode object at 0x000001A934E5B358>\n",
      "prefixPath:['s', 'x']\tleafNode:<fpGrowth.treeNode object at 0x000001A934E5B240>\n",
      "prefixPath:['s', 'x', 'z']\tleafNode:<fpGrowth.treeNode object at 0x000001A934B3A908>\n",
      "prefixPath:['s']\tleafNode:<fpGrowth.treeNode object at 0x000001A934ED9080>\n",
      "prefixPath:['s', 'x']\tleafNode:<fpGrowth.treeNode object at 0x000001A934ED9048>\n",
      "conditional tree for: {'s'}\n",
      "  Null Set   1\n",
      "   x   3\n",
      "prefixPath:['x']\tleafNode:<fpGrowth.treeNode object at 0x000001A934ED92B0>\n",
      "prefixPath:['t']\tleafNode:<fpGrowth.treeNode object at 0x000001A934E5B438>\n",
      "prefixPath:['t', 's']\tleafNode:<fpGrowth.treeNode object at 0x000001A934E5B358>\n",
      "prefixPath:['t', 's', 'x']\tleafNode:<fpGrowth.treeNode object at 0x000001A934E5B240>\n",
      "prefixPath:['t', 's', 'x', 'z']\tleafNode:<fpGrowth.treeNode object at 0x000001A934B3A908>\n",
      "prefixPath:['t']\tleafNode:<fpGrowth.treeNode object at 0x000001A934ED9128>\n",
      "prefixPath:['t', 'r']\tleafNode:<fpGrowth.treeNode object at 0x000001A934ED90F0>\n",
      "prefixPath:['t', 'r', 'x']\tleafNode:<fpGrowth.treeNode object at 0x000001A934E5B240>\n",
      "prefixPath:['t', 'r', 'x', 'z']\tleafNode:<fpGrowth.treeNode object at 0x000001A934B3A908>\n",
      "conditional tree for: {'t'}\n",
      "  Null Set   1\n",
      "   z   3\n",
      "    x   3\n",
      "prefixPath:['z']\tleafNode:<fpGrowth.treeNode object at 0x000001A934ED9400>\n",
      "prefixPath:['x']\tleafNode:<fpGrowth.treeNode object at 0x000001A934ED9470>\n",
      "prefixPath:['x', 'z']\tleafNode:<fpGrowth.treeNode object at 0x000001A934ED9400>\n",
      "conditional tree for: {'x', 't'}\n",
      "  Null Set   1\n",
      "   z   3\n",
      "prefixPath:['z']\tleafNode:<fpGrowth.treeNode object at 0x000001A934ED9630>\n",
      "prefixPath:['y']\tleafNode:<fpGrowth.treeNode object at 0x000001A934EBDE48>\n",
      "prefixPath:['y', 't']\tleafNode:<fpGrowth.treeNode object at 0x000001A934E5B438>\n",
      "prefixPath:['y', 't', 's']\tleafNode:<fpGrowth.treeNode object at 0x000001A934E5B358>\n",
      "prefixPath:['y', 't', 's', 'x']\tleafNode:<fpGrowth.treeNode object at 0x000001A934E5B240>\n",
      "prefixPath:['y', 't', 's', 'x', 'z']\tleafNode:<fpGrowth.treeNode object at 0x000001A934B3A908>\n",
      "prefixPath:['y']\tleafNode:<fpGrowth.treeNode object at 0x000001A934ED9160>\n",
      "prefixPath:['y', 't']\tleafNode:<fpGrowth.treeNode object at 0x000001A934ED9128>\n",
      "prefixPath:['y', 't', 'r']\tleafNode:<fpGrowth.treeNode object at 0x000001A934ED90F0>\n",
      "prefixPath:['y', 't', 'r', 'x']\tleafNode:<fpGrowth.treeNode object at 0x000001A934E5B240>\n",
      "prefixPath:['y', 't', 'r', 'x', 'z']\tleafNode:<fpGrowth.treeNode object at 0x000001A934B3A908>\n",
      "conditional tree for: {'y'}\n",
      "  Null Set   1\n",
      "   z   3\n",
      "    x   3\n",
      "     t   3\n",
      "prefixPath:['z']\tleafNode:<fpGrowth.treeNode object at 0x000001A934ED9748>\n",
      "prefixPath:['x']\tleafNode:<fpGrowth.treeNode object at 0x000001A934ED9780>\n",
      "prefixPath:['x', 'z']\tleafNode:<fpGrowth.treeNode object at 0x000001A934ED9748>\n",
      "conditional tree for: {'y', 'x'}\n",
      "  Null Set   1\n",
      "   z   3\n",
      "prefixPath:['z']\tleafNode:<fpGrowth.treeNode object at 0x000001A934ED9278>\n",
      "prefixPath:['t']\tleafNode:<fpGrowth.treeNode object at 0x000001A934ED97B8>\n",
      "prefixPath:['t', 'x']\tleafNode:<fpGrowth.treeNode object at 0x000001A934ED9780>\n",
      "prefixPath:['t', 'x', 'z']\tleafNode:<fpGrowth.treeNode object at 0x000001A934ED9748>\n",
      "conditional tree for: {'y', 't'}\n",
      "  Null Set   1\n",
      "   z   3\n",
      "    x   3\n",
      "prefixPath:['z']\tleafNode:<fpGrowth.treeNode object at 0x000001A934ED9978>\n",
      "prefixPath:['x']\tleafNode:<fpGrowth.treeNode object at 0x000001A934ED99E8>\n",
      "prefixPath:['x', 'z']\tleafNode:<fpGrowth.treeNode object at 0x000001A934ED9978>\n",
      "conditional tree for: {'y', 'x', 't'}\n",
      "  Null Set   1\n",
      "   z   3\n",
      "prefixPath:['z']\tleafNode:<fpGrowth.treeNode object at 0x000001A934ED9B38>\n",
      "prefixPath:['x']\tleafNode:<fpGrowth.treeNode object at 0x000001A934E5B240>\n",
      "prefixPath:['x', 'z']\tleafNode:<fpGrowth.treeNode object at 0x000001A934B3A908>\n",
      "prefixPath:['x']\tleafNode:<fpGrowth.treeNode object at 0x000001A934ED9048>\n",
      "conditional tree for: {'x'}\n",
      "  Null Set   1\n",
      "   z   3\n",
      "prefixPath:['z']\tleafNode:<fpGrowth.treeNode object at 0x000001A934ED9438>\n",
      "prefixPath:['z']\tleafNode:<fpGrowth.treeNode object at 0x000001A934B3A908>\n"
     ]
    },
    {
     "data": {
      "text/plain": [
       "[{'r'},\n",
       " {'s'},\n",
       " {'s', 'x'},\n",
       " {'t'},\n",
       " {'t', 'z'},\n",
       " {'t', 'x'},\n",
       " {'t', 'x', 'z'},\n",
       " {'y'},\n",
       " {'y', 'z'},\n",
       " {'x', 'y'},\n",
       " {'x', 'y', 'z'},\n",
       " {'t', 'y'},\n",
       " {'t', 'y', 'z'},\n",
       " {'t', 'x', 'y'},\n",
       " {'t', 'x', 'y', 'z'},\n",
       " {'x'},\n",
       " {'x', 'z'},\n",
       " {'z'}]"
      ]
     },
     "execution_count": 2,
     "metadata": {},
     "output_type": "execute_result"
    }
   ],
   "source": [
    "dataSet = fpGrowth.loadSimpDat()\n",
    "freqItems = fpGrowth.fpGrowth(dataSet)\n",
    "freqItems"
   ]
  },
  {
   "cell_type": "code",
   "execution_count": 4,
   "metadata": {},
   "outputs": [
    {
     "data": {
      "text/plain": [
       "set"
      ]
     },
     "execution_count": 4,
     "metadata": {},
     "output_type": "execute_result"
    }
   ],
   "source": [
    "type(freqItems[0])"
   ]
  },
  {
   "cell_type": "code",
   "execution_count": 24,
   "metadata": {},
   "outputs": [
    {
     "data": {
      "text/plain": [
       "{'z': [5, <fpGrowth.treeNode at 0x1669e2c15f8>],\n",
       " 'r': [3, <fpGrowth.treeNode at 0x1669e2c15c0>],\n",
       " 'y': [3, <fpGrowth.treeNode at 0x1669e2c1278>],\n",
       " 's': [3, <fpGrowth.treeNode at 0x1669e2c1240>],\n",
       " 'x': [4, <fpGrowth.treeNode at 0x1669e2c10f0>],\n",
       " 't': [3, <fpGrowth.treeNode at 0x1669e2c12e8>]}"
      ]
     },
     "execution_count": 24,
     "metadata": {},
     "output_type": "execute_result"
    }
   ],
   "source": [
    "myHeaderTab"
   ]
  },
  {
   "cell_type": "code",
   "execution_count": 25,
   "metadata": {},
   "outputs": [
    {
     "data": {
      "text/plain": [
       "{'r': <fpGrowth.treeNode at 0x1669e2c15c0>,\n",
       " 'x': <fpGrowth.treeNode at 0x1669e2c10f0>}"
      ]
     },
     "execution_count": 25,
     "metadata": {},
     "output_type": "execute_result"
    }
   ],
   "source": [
    "myFPtree.children['z'].children"
   ]
  },
  {
   "cell_type": "code",
   "execution_count": 27,
   "metadata": {},
   "outputs": [
    {
     "name": "stdout",
     "output_type": "stream",
     "text": [
      "{'z': [5, <fpGrowth.treeNode object at 0x000001669E2C15F8>], 'r': [3, <fpGrowth.treeNode object at 0x000001669E2C15C0>], 'y': [3, <fpGrowth.treeNode object at 0x000001669E2C1278>], 's': [3, <fpGrowth.treeNode object at 0x000001669E2C1240>], 'x': [4, <fpGrowth.treeNode object at 0x000001669E2C10F0>], 't': [3, <fpGrowth.treeNode object at 0x000001669E2C12E8>]}\n"
     ]
    }
   ],
   "source": [
    "def updateHeader(nodeToTest, targetNode):\n",
    "    #headerTable里定位的节点为上一节点，通过while语句将其更新到当前节点\n",
    "    while (nodeToTest.nodeLink != None):\n",
    "        nodeToTest = nodeToTest.nodeLink\n",
    "    nodeToTest.nodeLink = targetNode\n",
    "\n",
    "if __name__=='__main__':\n",
    "    updateHeader(myHeaderTab['r'][1], 'sss')\n",
    "    print(myHeaderTab)"
   ]
  },
  {
   "cell_type": "code",
   "execution_count": 30,
   "metadata": {},
   "outputs": [
    {
     "data": {
      "text/plain": [
       "'sss'"
      ]
     },
     "execution_count": 30,
     "metadata": {},
     "output_type": "execute_result"
    }
   ],
   "source": [
    "myHeaderTab['r'][1].nodeLink.nodeLink.nodeLink"
   ]
  },
  {
   "cell_type": "code",
   "execution_count": null,
   "metadata": {},
   "outputs": [],
   "source": []
  }
 ],
 "metadata": {
  "kernelspec": {
   "display_name": "Python 3",
   "language": "python",
   "name": "python3"
  },
  "language_info": {
   "codemirror_mode": {
    "name": "ipython",
    "version": 3
   },
   "file_extension": ".py",
   "mimetype": "text/x-python",
   "name": "python",
   "nbconvert_exporter": "python",
   "pygments_lexer": "ipython3",
   "version": "3.7.1"
  },
  "toc": {
   "base_numbering": 1,
   "nav_menu": {},
   "number_sections": true,
   "sideBar": true,
   "skip_h1_title": false,
   "title_cell": "Table of Contents",
   "title_sidebar": "Contents",
   "toc_cell": false,
   "toc_position": {},
   "toc_section_display": true,
   "toc_window_display": false
  }
 },
 "nbformat": 4,
 "nbformat_minor": 2
}
