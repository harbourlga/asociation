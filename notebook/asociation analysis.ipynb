{
 "cells": [
  {
   "cell_type": "code",
   "execution_count": 2,
   "metadata": {},
   "outputs": [],
   "source": [
    "import sys\n",
    "sys.path.append('H:/git_obj/Asociation analysis/asociation_tools')\n",
    "from Apriori_algorithm import apriori\n",
    "import fpGrowth"
   ]
  },
  {
   "cell_type": "code",
   "execution_count": 2,
   "metadata": {},
   "outputs": [
    {
     "name": "stderr",
     "output_type": "stream",
     "text": [
      "INFO:Apriori_algorithm:生成元素数目1的候选项集...\n",
      "INFO:Apriori_algorithm:对元素数目1的候选项集进行扫描...\n",
      "INFO:Apriori_algorithm:对元素数目大于1的候选项集进行迭代扫描...\n",
      "INFO:Apriori_algorithm:总运行时间0.0009953975677490234\n"
     ]
    },
    {
     "name": "stdout",
     "output_type": "stream",
     "text": [
      "[[frozenset({5}), frozenset({2}), frozenset({3}), frozenset({1})], [frozenset({2, 3}), frozenset({3, 5}), frozenset({2, 5}), frozenset({1, 3})], [frozenset({2, 3, 5})], []] \t {frozenset({1}): 0.5, frozenset({3}): 0.75, frozenset({4}): 0.25, frozenset({2}): 0.75, frozenset({5}): 0.75, frozenset({1, 3}): 0.5, frozenset({2, 5}): 0.75, frozenset({3, 5}): 0.5, frozenset({2, 3}): 0.5, frozenset({1, 5}): 0.25, frozenset({1, 2}): 0.25, frozenset({2, 3, 5}): 0.5}\n"
     ]
    }
   ],
   "source": [
    "aprioris = apriori(minsupport = 0.5,minConf = 0.8)\n",
    "datas = [[1, 3, 4], [2, 3, 5], [1, 2, 3, 5], [2, 5]]\n",
    "Ls, sup = aprioris.freq(datas)\n",
    "print(Ls, '\\t', sup)"
   ]
  },
  {
   "cell_type": "code",
   "execution_count": 3,
   "metadata": {
    "scrolled": true
   },
   "outputs": [
    {
     "name": "stderr",
     "output_type": "stream",
     "text": [
      "INFO:Apriori_algorithm:开始生成关联规则...\n"
     ]
    },
    {
     "name": "stdout",
     "output_type": "stream",
     "text": [
      "frozenset({3}) --> frozenset({2}) conf: 0.6666666666666666\n",
      "frozenset({2}) --> frozenset({3}) conf: 0.6666666666666666\n",
      "frozenset({5}) --> frozenset({3}) conf: 0.6666666666666666\n",
      "frozenset({3}) --> frozenset({5}) conf: 0.6666666666666666\n",
      "frozenset({5}) --> frozenset({2}) conf: 1.0\n",
      "frozenset({2}) --> frozenset({5}) conf: 1.0\n",
      "frozenset({3}) --> frozenset({1}) conf: 0.6666666666666666\n",
      "frozenset({1}) --> frozenset({3}) conf: 1.0\n",
      "frozenset({3, 5}) --> frozenset({2}) conf: 1.0\n",
      "frozenset({2, 5}) --> frozenset({3}) conf: 0.6666666666666666\n",
      "frozenset({2, 3}) --> frozenset({5}) conf: 1.0\n",
      "frozenset({5}) --> frozenset({2, 3}) conf: 0.6666666666666666\n",
      "frozenset({3}) --> frozenset({2, 5}) conf: 0.6666666666666666\n",
      "frozenset({2}) --> frozenset({3, 5}) conf: 0.6666666666666666\n"
     ]
    },
    {
     "data": {
      "text/plain": [
       "[(frozenset({3}), frozenset({2}), 0.6666666666666666),\n",
       " (frozenset({2}), frozenset({3}), 0.6666666666666666),\n",
       " (frozenset({5}), frozenset({3}), 0.6666666666666666),\n",
       " (frozenset({3}), frozenset({5}), 0.6666666666666666),\n",
       " (frozenset({5}), frozenset({2}), 1.0),\n",
       " (frozenset({2}), frozenset({5}), 1.0),\n",
       " (frozenset({3}), frozenset({1}), 0.6666666666666666),\n",
       " (frozenset({1}), frozenset({3}), 1.0),\n",
       " (frozenset({3, 5}), frozenset({2}), 1.0),\n",
       " (frozenset({2, 5}), frozenset({3}), 0.6666666666666666),\n",
       " (frozenset({2, 3}), frozenset({5}), 1.0),\n",
       " (frozenset({5}), frozenset({2, 3}), 0.6666666666666666),\n",
       " (frozenset({3}), frozenset({2, 5}), 0.6666666666666666),\n",
       " (frozenset({2}), frozenset({3, 5}), 0.6666666666666666)]"
      ]
     },
     "execution_count": 3,
     "metadata": {},
     "output_type": "execute_result"
    }
   ],
   "source": [
    "aprioris.generateRules(Ls, sup, minConf = 0.5)"
   ]
  },
  {
   "cell_type": "code",
   "execution_count": 4,
   "metadata": {},
   "outputs": [
    {
     "name": "stderr",
     "output_type": "stream",
     "text": [
      "INFO:Apriori_algorithm:生成元素数目1的候选项集...\n",
      "INFO:Apriori_algorithm:对元素数目1的候选项集进行扫描...\n",
      "INFO:Apriori_algorithm:对元素数目大于1的候选项集进行迭代扫描...\n",
      "INFO:Apriori_algorithm:总运行时间0.0019931793212890625\n"
     ]
    },
    {
     "name": "stdout",
     "output_type": "stream",
     "text": [
      "[[frozenset({'y'}), frozenset({'x'}), frozenset({'t'}), frozenset({'s'}), frozenset({'z'}), frozenset({'r'})], [frozenset({'z', 't'}), frozenset({'x', 'z'}), frozenset({'x', 's'}), frozenset({'x', 't'}), frozenset({'y', 'z'}), frozenset({'y', 't'}), frozenset({'y', 'x'})], [frozenset({'y', 'x', 't'}), frozenset({'y', 'x', 'z'}), frozenset({'y', 'z', 't'}), frozenset({'x', 'z', 't'})], [frozenset({'z', 't', 'y', 'x'})], []] \t {frozenset({'h'}): 0.16666666666666666, frozenset({'j'}): 0.16666666666666666, frozenset({'p'}): 0.3333333333333333, frozenset({'r'}): 0.5, frozenset({'z'}): 0.8333333333333334, frozenset({'s'}): 0.5, frozenset({'t'}): 0.5, frozenset({'u'}): 0.16666666666666666, frozenset({'v'}): 0.16666666666666666, frozenset({'w'}): 0.16666666666666666, frozenset({'x'}): 0.6666666666666666, frozenset({'y'}): 0.5, frozenset({'n'}): 0.16666666666666666, frozenset({'o'}): 0.16666666666666666, frozenset({'q'}): 0.3333333333333333, frozenset({'e'}): 0.16666666666666666, frozenset({'m'}): 0.16666666666666666, frozenset({'r', 'z'}): 0.3333333333333333, frozenset({'y', 'x'}): 0.5, frozenset({'y', 't'}): 0.5, frozenset({'y', 's'}): 0.3333333333333333, frozenset({'y', 'z'}): 0.5, frozenset({'x', 't'}): 0.5, frozenset({'x', 's'}): 0.5, frozenset({'x', 'z'}): 0.5, frozenset({'s', 't'}): 0.3333333333333333, frozenset({'z', 't'}): 0.5, frozenset({'z', 's'}): 0.3333333333333333, frozenset({'r', 'x'}): 0.3333333333333333, frozenset({'r', 's'}): 0.16666666666666666, frozenset({'y', 'r'}): 0.16666666666666666, frozenset({'r', 't'}): 0.16666666666666666, frozenset({'x', 'z', 's'}): 0.3333333333333333, frozenset({'x', 'z', 't'}): 0.5, frozenset({'t', 'x', 's'}): 0.3333333333333333, frozenset({'y', 'z', 't'}): 0.5, frozenset({'y', 'x', 'z'}): 0.5, frozenset({'y', 'x', 't'}): 0.5, frozenset({'z', 't', 'y', 'x'}): 0.5}\n"
     ]
    }
   ],
   "source": [
    "simpDat = fpGrowth.loadSimpDat()\n",
    "aprioris = apriori(minsupport = 0.5,minConf = 0.8)\n",
    "Ls, sup = aprioris.freq(simpDat)\n",
    "print(Ls, '\\t', sup)"
   ]
  },
  {
   "cell_type": "code",
   "execution_count": 5,
   "metadata": {},
   "outputs": [
    {
     "name": "stderr",
     "output_type": "stream",
     "text": [
      "INFO:Apriori_algorithm:开始生成关联规则...\n"
     ]
    },
    {
     "name": "stdout",
     "output_type": "stream",
     "text": [
      "frozenset({'t'}) --> frozenset({'z'}) conf: 1.0\n",
      "frozenset({'z'}) --> frozenset({'t'}) conf: 0.6\n",
      "frozenset({'z'}) --> frozenset({'x'}) conf: 0.6\n",
      "frozenset({'x'}) --> frozenset({'z'}) conf: 0.75\n",
      "frozenset({'s'}) --> frozenset({'x'}) conf: 1.0\n",
      "frozenset({'x'}) --> frozenset({'s'}) conf: 0.75\n",
      "frozenset({'t'}) --> frozenset({'x'}) conf: 1.0\n",
      "frozenset({'x'}) --> frozenset({'t'}) conf: 0.75\n",
      "frozenset({'z'}) --> frozenset({'y'}) conf: 0.6\n",
      "frozenset({'y'}) --> frozenset({'z'}) conf: 1.0\n",
      "frozenset({'t'}) --> frozenset({'y'}) conf: 1.0\n",
      "frozenset({'y'}) --> frozenset({'t'}) conf: 1.0\n",
      "frozenset({'x'}) --> frozenset({'y'}) conf: 0.75\n",
      "frozenset({'y'}) --> frozenset({'x'}) conf: 1.0\n",
      "frozenset({'x', 't'}) --> frozenset({'y'}) conf: 1.0\n",
      "frozenset({'y', 't'}) --> frozenset({'x'}) conf: 1.0\n",
      "frozenset({'y', 'x'}) --> frozenset({'t'}) conf: 1.0\n",
      "frozenset({'t'}) --> frozenset({'y', 'x'}) conf: 1.0\n",
      "frozenset({'x'}) --> frozenset({'y', 't'}) conf: 0.75\n",
      "frozenset({'y'}) --> frozenset({'x', 't'}) conf: 1.0\n",
      "frozenset({'x', 'z'}) --> frozenset({'y'}) conf: 1.0\n",
      "frozenset({'y', 'z'}) --> frozenset({'x'}) conf: 1.0\n",
      "frozenset({'y', 'x'}) --> frozenset({'z'}) conf: 1.0\n",
      "frozenset({'z'}) --> frozenset({'y', 'x'}) conf: 0.6\n",
      "frozenset({'x'}) --> frozenset({'y', 'z'}) conf: 0.75\n",
      "frozenset({'y'}) --> frozenset({'x', 'z'}) conf: 1.0\n",
      "frozenset({'z', 't'}) --> frozenset({'y'}) conf: 1.0\n",
      "frozenset({'y', 't'}) --> frozenset({'z'}) conf: 1.0\n",
      "frozenset({'y', 'z'}) --> frozenset({'t'}) conf: 1.0\n",
      "frozenset({'t'}) --> frozenset({'y', 'z'}) conf: 1.0\n",
      "frozenset({'z'}) --> frozenset({'y', 't'}) conf: 0.6\n",
      "frozenset({'y'}) --> frozenset({'z', 't'}) conf: 1.0\n",
      "frozenset({'z', 't'}) --> frozenset({'x'}) conf: 1.0\n",
      "frozenset({'x', 't'}) --> frozenset({'z'}) conf: 1.0\n",
      "frozenset({'x', 'z'}) --> frozenset({'t'}) conf: 1.0\n",
      "frozenset({'t'}) --> frozenset({'x', 'z'}) conf: 1.0\n",
      "frozenset({'z'}) --> frozenset({'x', 't'}) conf: 0.6\n",
      "frozenset({'x'}) --> frozenset({'z', 't'}) conf: 0.75\n",
      "frozenset({'y', 'x', 't'}) --> frozenset({'z'}) conf: 1.0\n",
      "frozenset({'y', 'x', 'z'}) --> frozenset({'t'}) conf: 1.0\n",
      "frozenset({'x', 'z', 't'}) --> frozenset({'y'}) conf: 1.0\n",
      "frozenset({'y', 'z', 't'}) --> frozenset({'x'}) conf: 1.0\n",
      "frozenset({'y', 'x'}) --> frozenset({'z', 't'}) conf: 1.0\n",
      "frozenset({'x', 't'}) --> frozenset({'y', 'z'}) conf: 1.0\n",
      "frozenset({'y', 't'}) --> frozenset({'x', 'z'}) conf: 1.0\n",
      "frozenset({'x', 'z'}) --> frozenset({'y', 't'}) conf: 1.0\n",
      "frozenset({'y', 'z'}) --> frozenset({'x', 't'}) conf: 1.0\n",
      "frozenset({'z', 't'}) --> frozenset({'y', 'x'}) conf: 1.0\n",
      "frozenset({'x'}) --> frozenset({'y', 'z', 't'}) conf: 0.75\n",
      "frozenset({'t'}) --> frozenset({'y', 'x', 'z'}) conf: 1.0\n",
      "frozenset({'y'}) --> frozenset({'x', 'z', 't'}) conf: 1.0\n",
      "frozenset({'z'}) --> frozenset({'y', 'x', 't'}) conf: 0.6\n"
     ]
    },
    {
     "data": {
      "text/plain": [
       "[(frozenset({'t'}), frozenset({'z'}), 1.0),\n",
       " (frozenset({'z'}), frozenset({'t'}), 0.6),\n",
       " (frozenset({'z'}), frozenset({'x'}), 0.6),\n",
       " (frozenset({'x'}), frozenset({'z'}), 0.75),\n",
       " (frozenset({'s'}), frozenset({'x'}), 1.0),\n",
       " (frozenset({'x'}), frozenset({'s'}), 0.75),\n",
       " (frozenset({'t'}), frozenset({'x'}), 1.0),\n",
       " (frozenset({'x'}), frozenset({'t'}), 0.75),\n",
       " (frozenset({'z'}), frozenset({'y'}), 0.6),\n",
       " (frozenset({'y'}), frozenset({'z'}), 1.0),\n",
       " (frozenset({'t'}), frozenset({'y'}), 1.0),\n",
       " (frozenset({'y'}), frozenset({'t'}), 1.0),\n",
       " (frozenset({'x'}), frozenset({'y'}), 0.75),\n",
       " (frozenset({'y'}), frozenset({'x'}), 1.0),\n",
       " (frozenset({'t', 'x'}), frozenset({'y'}), 1.0),\n",
       " (frozenset({'t', 'y'}), frozenset({'x'}), 1.0),\n",
       " (frozenset({'x', 'y'}), frozenset({'t'}), 1.0),\n",
       " (frozenset({'t'}), frozenset({'x', 'y'}), 1.0),\n",
       " (frozenset({'x'}), frozenset({'t', 'y'}), 0.75),\n",
       " (frozenset({'y'}), frozenset({'t', 'x'}), 1.0),\n",
       " (frozenset({'x', 'z'}), frozenset({'y'}), 1.0),\n",
       " (frozenset({'y', 'z'}), frozenset({'x'}), 1.0),\n",
       " (frozenset({'x', 'y'}), frozenset({'z'}), 1.0),\n",
       " (frozenset({'z'}), frozenset({'x', 'y'}), 0.6),\n",
       " (frozenset({'x'}), frozenset({'y', 'z'}), 0.75),\n",
       " (frozenset({'y'}), frozenset({'x', 'z'}), 1.0),\n",
       " (frozenset({'t', 'z'}), frozenset({'y'}), 1.0),\n",
       " (frozenset({'t', 'y'}), frozenset({'z'}), 1.0),\n",
       " (frozenset({'y', 'z'}), frozenset({'t'}), 1.0),\n",
       " (frozenset({'t'}), frozenset({'y', 'z'}), 1.0),\n",
       " (frozenset({'z'}), frozenset({'t', 'y'}), 0.6),\n",
       " (frozenset({'y'}), frozenset({'t', 'z'}), 1.0),\n",
       " (frozenset({'t', 'z'}), frozenset({'x'}), 1.0),\n",
       " (frozenset({'t', 'x'}), frozenset({'z'}), 1.0),\n",
       " (frozenset({'x', 'z'}), frozenset({'t'}), 1.0),\n",
       " (frozenset({'t'}), frozenset({'x', 'z'}), 1.0),\n",
       " (frozenset({'z'}), frozenset({'t', 'x'}), 0.6),\n",
       " (frozenset({'x'}), frozenset({'t', 'z'}), 0.75),\n",
       " (frozenset({'t', 'x', 'y'}), frozenset({'z'}), 1.0),\n",
       " (frozenset({'x', 'y', 'z'}), frozenset({'t'}), 1.0),\n",
       " (frozenset({'t', 'x', 'z'}), frozenset({'y'}), 1.0),\n",
       " (frozenset({'t', 'y', 'z'}), frozenset({'x'}), 1.0),\n",
       " (frozenset({'x', 'y'}), frozenset({'t', 'z'}), 1.0),\n",
       " (frozenset({'t', 'x'}), frozenset({'y', 'z'}), 1.0),\n",
       " (frozenset({'t', 'y'}), frozenset({'x', 'z'}), 1.0),\n",
       " (frozenset({'x', 'z'}), frozenset({'t', 'y'}), 1.0),\n",
       " (frozenset({'y', 'z'}), frozenset({'t', 'x'}), 1.0),\n",
       " (frozenset({'t', 'z'}), frozenset({'x', 'y'}), 1.0),\n",
       " (frozenset({'x'}), frozenset({'t', 'y', 'z'}), 0.75),\n",
       " (frozenset({'t'}), frozenset({'x', 'y', 'z'}), 1.0),\n",
       " (frozenset({'y'}), frozenset({'t', 'x', 'z'}), 1.0),\n",
       " (frozenset({'z'}), frozenset({'t', 'x', 'y'}), 0.6)]"
      ]
     },
     "execution_count": 5,
     "metadata": {},
     "output_type": "execute_result"
    }
   ],
   "source": [
    "aprioris.generateRules(Ls, sup, minConf = 0.5)"
   ]
  },
  {
   "cell_type": "code",
   "execution_count": null,
   "metadata": {},
   "outputs": [],
   "source": []
  }
 ],
 "metadata": {
  "kernelspec": {
   "display_name": "Python 3",
   "language": "python",
   "name": "python3"
  },
  "language_info": {
   "codemirror_mode": {
    "name": "ipython",
    "version": 3
   },
   "file_extension": ".py",
   "mimetype": "text/x-python",
   "name": "python",
   "nbconvert_exporter": "python",
   "pygments_lexer": "ipython3",
   "version": "3.7.1"
  },
  "toc": {
   "base_numbering": 1,
   "nav_menu": {},
   "number_sections": true,
   "sideBar": true,
   "skip_h1_title": false,
   "title_cell": "Table of Contents",
   "title_sidebar": "Contents",
   "toc_cell": false,
   "toc_position": {},
   "toc_section_display": true,
   "toc_window_display": false
  }
 },
 "nbformat": 4,
 "nbformat_minor": 2
}
